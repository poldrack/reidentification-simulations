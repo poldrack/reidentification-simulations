{
 "cells": [
  {
   "cell_type": "markdown",
   "id": "d050f4ca",
   "metadata": {
    "id": "86c72b2b-f9e6-4645-aa9f-8015d186b6fd"
   },
   "source": [
    "## Classification accuracy by population size\n",
    "\n",
    "This notebook implements the simulations described in Jwa et al. to simulate the effects of population size on classification accuracy. The simulations are based on the results of [Schwartz et al., 2021](https://www.ncbi.nlm.nih.gov/pmc/articles/pmid/33582276/), though here we use a simple nearest neighbor\n",
    "classifier to demonstrate the drop in accuracy as a function of population size for a sample-to-population attack (i.e. attempting to reidentify specific individuals from a larger population within an anonymized dataset).\n",
    "\n",
    "The simulations here are based on accuracy rates reported by Schwartz et al. for images defaced using pydeface:\n",
    "\n",
    "- 16/157 (10%) without refacing\n",
    "- 59/157 (38%) with reconstruction using mri_reface\n",
    "\n",
    "The present simulations are not meant to simulate the actual process of face recognition, but rather to demonstrate how accuracy decreases systematically with population size in this form of attack."
   ]
  },
  {
   "cell_type": "code",
   "execution_count": 1,
   "id": "31d9ceb3",
   "metadata": {
    "colab": {
     "base_uri": "https://localhost:8080/"
    },
    "id": "b11bde40-9368-4fff-a7c2-6109d2d425f1",
    "lines_to_next_cell": 2,
    "outputId": "d059e767-5ec1-4379-d3ef-4aa8d65c7a4e"
   },
   "outputs": [
    {
     "name": "stdout",
     "output_type": "stream",
     "text": [
      "Collecting faiss-cpu\n",
      "  Downloading faiss_cpu-1.7.4-cp311-cp311-macosx_11_0_arm64.whl.metadata (1.3 kB)\n",
      "Downloading faiss_cpu-1.7.4-cp311-cp311-macosx_11_0_arm64.whl (2.7 MB)\n",
      "\u001b[2K   \u001b[38;2;114;156;31m━━━━━━━━━━━━━━━━━━━━━━━━━━━━━━━━━━━━━━━━\u001b[0m \u001b[32m2.7/2.7 MB\u001b[0m \u001b[31m21.0 MB/s\u001b[0m eta \u001b[36m0:00:00\u001b[0m31m14.7 MB/s\u001b[0m eta \u001b[36m0:00:01\u001b[0m\n",
      "\u001b[?25hInstalling collected packages: faiss-cpu\n",
      "Successfully installed faiss-cpu-1.7.4\n"
     ]
    }
   ],
   "source": [
    "import numpy as np\n",
    "from sklearn.neighbors import KNeighborsClassifier\n",
    "import pandas as pd\n",
    "import matplotlib.pyplot as plt\n",
    "from sklearn.preprocessing import PolynomialFeatures\n",
    "from sklearn.linear_model import LinearRegression\n",
    "from sklearn.metrics import accuracy_score\n",
    "import seaborn as sns\n",
    "import torch\n",
    "import time\n",
    "\n",
    "use_cuda = torch.cuda.is_available()\n",
    "\n",
    "try:\n",
    "    import faiss\n",
    "except:\n",
    "    if use_cuda:\n",
    "        !pip install faiss-gpu --no-cache\n",
    "    else:\n",
    "        !pip install faiss-cpu --no-cache        \n",
    "    import faiss\n",
    "\n",
    "if use_cuda:\n",
    "    # use GPU if available\n",
    "    res = faiss.StandardGpuResources()\n",
    "    print('GPU available:', use_cuda)"
   ]
  },
  {
   "cell_type": "markdown",
   "id": "52af1c0a-fec5-436a-9c5b-c130113de643",
   "metadata": {},
   "source": [
    "First we create some functions to implement a [fast method for nearest-neighbor classification](https://towardsdatascience.com/make-knn-300-times-faster-than-scikit-learns-in-20-lines-5e29d74e76bb) and to perfom the classification on a dataset using a version of the same datset with noise added. The classification target is simply a set of integers for each data point; thus, classification accuracy is the average accuracy of identifying any individual in the dataset from the full population.\n"
   ]
  },
  {
   "cell_type": "code",
   "execution_count": 2,
   "id": "90f07d65",
   "metadata": {
    "id": "5821ec4b-bcf2-4a5c-bb0a-d094d589f237"
   },
   "outputs": [],
   "source": [
    "class FaissKNeighbors:\n",
    "    \"\"\"\n",
    "    use faiss to implement fast KNN: \n",
    "    Based on: \n",
    "    \"\"\"\n",
    "    def __init__(self, k=1):\n",
    "        self.index = None\n",
    "        self.y = None\n",
    "        self.k = k\n",
    "\n",
    "    def fit(self, X, y):\n",
    "        self.index = faiss.IndexFlatL2(X.shape[1])\n",
    "        if use_cuda:\n",
    "            # use GPU if available\n",
    "            self.index = faiss.index_cpu_to_gpu(res, 0, self.index)\n",
    "        self.index.add(X.astype(np.float32))\n",
    "        self.y = y\n",
    "\n",
    "\n",
    "    def predict(self, X):\n",
    "        distances, indices = self.index.search(X.astype(np.float32), k=self.k)\n",
    "        votes = self.y[indices]\n",
    "        predictions = np.array([np.argmax(np.bincount(x)) for x in votes])\n",
    "        return predictions\n",
    "\n",
    "    def score(self, X, y):\n",
    "        return accuracy_score(y, self.predict(X))\n",
    "\n",
    "\n",
    "def nn_test(data, noise_scale, rng=None):\n",
    "    \"\"\"\n",
    "    A function that takes a dataset, fits a nearest neighbor classifier,\n",
    "    and then classifies observations generated by adding noise to the\n",
    "    original data.\n",
    "\n",
    "    inputs:\n",
    "    data (ndarray): original data, population size X n features\n",
    "    noise_scale (scalar): standard deviation of added noise\n",
    "    rng: numpy random noise generator\n",
    "\n",
    "    return:\n",
    "    accuracy of resulting classification\n",
    "    \"\"\"\n",
    "\n",
    "    if rng is None:\n",
    "        rng = np.random.default_rng(None)\n",
    "    target = np.arange(data.shape[0])\n",
    "    nn = FaissKNeighbors()\n",
    "    nn.fit(data, target)\n",
    "    data_noised = data + rng.normal(scale=noise_scale, size=data.shape)\n",
    "    return nn.score(data_noised, target)\n"
   ]
  },
  {
   "cell_type": "markdown",
   "id": "64d6061e",
   "metadata": {
    "id": "25b56e14-259d-44d0-adec-c26261868857"
   },
   "source": [
    "## Rationale\n",
    "\n",
    "We want to generate data for which a classifier (in this case a one-nearest-neighbor) will give a particular level of accuracy for the population size (157) used in the Schwarz et al. paper. Then we will use that same noise level to generate a larger population for which we will test classification accuracy.\n",
    "\n",
    "We first need to determine, for a given level of accuracy, what the noise level is that would give that level of accuracy (on average). Initial testing suggested that the range of noise levels from 2.5 to 20 was sufficient to capture the range from maximum to minimum accuracy. We run a large number of simulations using noise values sampled randomly from that range, and then use a polynomial regression to estimate the relationship between noise level and accuracy."
   ]
  },
  {
   "cell_type": "code",
   "execution_count": 3,
   "id": "596e409f",
   "metadata": {
    "id": "b604b4d9-692b-4a38-81d7-5b89bcfffc93",
    "lines_to_next_cell": 2
   },
   "outputs": [
    {
     "data": {
      "text/plain": [
       "5.787442250060849"
      ]
     },
     "execution_count": 3,
     "metadata": {},
     "output_type": "execute_result"
    }
   ],
   "source": [
    "def get_accuracy_by_noise_level(npts, nfeatures, noise_range=None, seed=None):\n",
    "    if noise_range is None:\n",
    "        noise_range = [2.5, 20]\n",
    "    rng = np.random.default_rng(seed)\n",
    "    results = []\n",
    "    for i in range(10000):\n",
    "        noise_scale = rng.random() * np.diff(noise_range)[0] + noise_range[0]\n",
    "        data = rng.normal(scale=1, size=(npts, nfeatures))\n",
    "        nn_test_result =  nn_test(data, noise_scale, rng)\n",
    "        results.append([noise_scale, nn_test_result])\n",
    "    return pd.DataFrame(results, columns=['noise_sd', 'accuracy'])\n",
    "\n",
    "npts = 157  # population size for Schwartz\n",
    "nfeatures = 100\n",
    "\n",
    "start = time.perf_counter()\n",
    "results_df = get_accuracy_by_noise_level(npts, nfeatures)\n",
    "time.perf_counter() - start"
   ]
  },
  {
   "cell_type": "code",
   "execution_count": 4,
   "id": "dd14bdb2",
   "metadata": {
    "colab": {
     "base_uri": "https://localhost:8080/",
     "height": 466
    },
    "id": "2c4c1c29-77f1-434f-9817-73b5f4eaa69a",
    "lines_to_next_cell": 2,
    "outputId": "a1c67550-f9ff-45be-f8ce-4a46fd82e18b"
   },
   "outputs": [
    {
     "data": {
      "image/png": "[encoded data removed]",
      "text/plain": [
       "<Figure size 640x480 with 1 Axes>"
      ]
     },
     "metadata": {},
     "output_type": "display_data"
    }
   ],
   "source": [
    "# fit nonlinear function to results to get predicted accuracy and save to results_df\n",
    "def get_predicted_accuracy_by_noise(results_df):\n",
    "    poly = PolynomialFeatures(5)\n",
    "    X = poly.fit_transform(results_df[['noise_sd']])\n",
    "    lr = LinearRegression(fit_intercept=False)\n",
    "    lr.fit(X, results_df.accuracy)\n",
    "    results_df['predicted'] = lr.predict(X)\n",
    "    plt.scatter(results_df.noise_sd, results_df.accuracy, s=1)\n",
    "    plt.scatter(results_df.noise_sd, results_df.predicted, color='red', s=1)\n",
    "    plt.xlabel('noise sd')\n",
    "    plt.ylabel('accuracy')\n",
    "    return results_df\n",
    "\n",
    "results_df = get_predicted_accuracy_by_noise(results_df)"
   ]
  },
  {
   "cell_type": "markdown",
   "id": "616d110f",
   "metadata": {
    "id": "00ab4913-04d0-4397-83a1-6d89aa380fec"
   },
   "source": [
    "The following is the main simulation, in which we vary population size to determine how classification accuracy decreases as a function of population size.  We first generate a dataset of individuals.  We then perform the analysis for the two levels of accuracy described above, varying across a range of population sizes from 157 (the population size in the Schwarz paper) up to 500,000. Random seeds were chosen manually for each accuracy level such that they give accuracy results for n=157 that are within 1% of the reported value.\n"
   ]
  },
  {
   "cell_type": "code",
   "execution_count": 5,
   "id": "a280bfd5",
   "metadata": {
    "colab": {
     "base_uri": "https://localhost:8080/"
    },
    "id": "3d7061a0-9274-4e73-91ea-5e6b8ea044b5",
    "outputId": "64edc942-44e6-4022-c468-5ef4d0945ad5"
   },
   "outputs": [],
   "source": [
    "def get_noise_level(target_accuracy, results_df):\n",
    "    \"\"\"\n",
    "    A function to estimate the noise level needed to obtain\n",
    "    a particular level of classification accuracy\n",
    "\n",
    "    inputs:\n",
    "    target_accuracy (float): desired accuracy\n",
    "    results_df (DataFrame): data frame containing simulation results\n",
    "\n",
    "    returns:\n",
    "    noise level to give desired accuracy\n",
    "    \"\"\"\n",
    "    absdiff = np.abs(results_df.predicted - target_accuracy)\n",
    "    return results_df.loc[np.argmin(absdiff), 'noise_sd']\n"
   ]
  },
  {
   "cell_type": "markdown",
   "id": "6c0bfede-b30f-4c7a-b840-4485464ef499",
   "metadata": {},
   "source": [
    "We will use a range of population sizes ranging from the small population size used in Schwartz et al. to the estimated population size for a moderately sized US city with a broad age range across both genders."
   ]
  },
  {
   "cell_type": "code",
   "execution_count": 6,
   "id": "a8ca7e53",
   "metadata": {
    "id": "a6e8db1c-f2ba-4846-9c4f-9fade3157397",
    "lines_to_next_cell": 2
   },
   "outputs": [],
   "source": [
    "pop_sizes = [157, 250, 500, 1000, 5000, 6500, 70000, 423000, 865000]\n",
    "target_accuracy = [0.1, 0.38] # from Schwartz et al.\n",
    "\n",
    "# create random feature values for the largest population size\n",
    "# we will subsample these for smaller population sizes\n",
    "rng = np.random.default_rng(12345)\n",
    "popdata = rng.normal(size=(np.max(pop_sizes), nfeatures))\n"
   ]
  },
  {
   "cell_type": "markdown",
   "id": "70a6d965-ad96-47d5-a814-309ae4cccbc9",
   "metadata": {},
   "source": [
    "First we find the random seeds that will get us into the correct range for each target accuracy level within a tolerance range of 1% for the sample size in the Schwartz paper.\n"
   ]
  },
  {
   "cell_type": "code",
   "execution_count": 7,
   "id": "24fec35a",
   "metadata": {
    "colab": {
     "base_uri": "https://localhost:8080/"
    },
    "id": "7e3cc2fe-545d-47e8-b1fc-e37f5cf7708d",
    "lines_to_next_cell": 2,
    "outputId": "a755c6e2-b811-45b1-b533-813d947fa9a2"
   },
   "outputs": [
    {
     "name": "stdout",
     "output_type": "stream",
     "text": [
      "0.1 0.09554140127388536 3458856\n",
      "0.38 0.3885350318471338 8205135\n"
     ]
    }
   ],
   "source": [
    "acc_seeds = {}\n",
    "data_subset = popdata[:157, :]\n",
    "tolerance = .01\n",
    "\n",
    "for target_acc in target_accuracy:\n",
    "    acc = -1\n",
    "    target_noise = get_noise_level(target_acc, results_df)\n",
    "    while np.abs(acc - target_acc) > tolerance:\n",
    "        seed = np.random.randint(10000000)\n",
    "        rng = np.random.default_rng(seed)\n",
    "        acc = nn_test(data_subset, target_noise, rng)\n",
    "    acc_seeds[target_acc] = seed\n",
    "    print(target_acc, acc, seed)"
   ]
  },
  {
   "cell_type": "markdown",
   "id": "90b94648-3ab4-4f6a-82b7-229bb2ca016f",
   "metadata": {},
   "source": [
    "Next we loop through each of the population sizes, using the random seed obtained above to ensure that the "
   ]
  },
  {
   "cell_type": "code",
   "execution_count": null,
   "id": "5b0a28d4",
   "metadata": {
    "colab": {
     "base_uri": "https://localhost:8080/"
    },
    "id": "e8ef4dcb-43c1-448f-82c1-e147421cf354",
    "outputId": "c971c805-cd16-4d56-c7c7-d0a76d71ce0d"
   },
   "outputs": [
    {
     "name": "stdout",
     "output_type": "stream",
     "text": [
      "[7.507717966848982, 157, 0.09554140127388536]\n",
      "[7.507717966848982, 250, 0.068]\n",
      "[7.507717966848982, 500, 0.048]\n",
      "[7.507717966848982, 1000, 0.026]\n",
      "[7.507717966848982, 5000, 0.011]\n",
      "[7.507717966848982, 6500, 0.009230769230769232]\n",
      "[7.507717966848982, 70000, 0.0019285714285714286]\n",
      "[7.507717966848982, 423000, 0.00047990543735224587]\n"
     ]
    }
   ],
   "source": [
    "def simulate_accuracy_by_population_size(results_df, popdata, acc_seeds, pop_sizes, \n",
    "                                         save_result=True):\n",
    "    sim_results = []\n",
    "    \n",
    "    for target_accuracy in acc_seeds.keys():\n",
    "        target_noise = get_noise_level(target_accuracy, results_df)\n",
    "        for ps in pop_sizes:\n",
    "            # reset rng with seed for each sample\n",
    "            rng = np.random.default_rng(acc_seeds[target_accuracy])\n",
    "            data_subset = popdata[:ps, :]\n",
    "            result = nn_test(data_subset, target_noise, rng)\n",
    "            sim_results.append([target_noise, ps, result])\n",
    "            print([target_noise, ps, result])\n",
    "    sim_results_df = pd.DataFrame(\n",
    "        sim_results, columns=['target_noise', 'popsize', 'accuracy']\n",
    "    )\n",
    "    # labels for plotting\n",
    "    sim_results_df['SignalNoiseRatio'] = [\n",
    "        'high' if i < sim_results_df.target_noise.median() else 'low'\n",
    "        for i in sim_results_df.target_noise\n",
    "    ]\n",
    "    if save_result:\n",
    "        sim_results_df.to_csv('sim_results.csv')\n",
    "    return sim_results_df\n",
    "\n",
    "sim_results_df = simulate_accuracy_by_population_size(\n",
    "    results_df, popdata, acc_seeds, pop_sizes)\n",
    "    "
   ]
  },
  {
   "cell_type": "markdown",
   "id": "527e1aca-68aa-4a07-ba60-a89cb1e36ae6",
   "metadata": {},
   "source": [
    "Finally, plot the relationship between target population size and classification accuracy on a log-log scale."
   ]
  },
  {
   "cell_type": "code",
   "execution_count": null,
   "id": "9e8e7a6c",
   "metadata": {
    "colab": {
     "base_uri": "https://localhost:8080/",
     "height": 454
    },
    "id": "85fe5932-2145-4ce4-a179-0c8a11d5bc0a",
    "outputId": "2bee406b-4c90-44ed-f8ed-a189fbbb906c"
   },
   "outputs": [],
   "source": [
    "def plot_accuracy(sim_results_df, save_fig=True):\n",
    "    sns.lineplot(\n",
    "        x='popsize', y='accuracy', hue='SignalNoiseRatio', data=sim_results_df\n",
    "    )\n",
    "    plt.xlabel('Target population size (log)')\n",
    "    plt.ylabel('Classification accuracy (log)')\n",
    "    plt.xscale('log')\n",
    "    plt.yscale('log')\n",
    "    plt.grid()\n",
    "    if save_fig:\n",
    "        plt.savefig('accuracy_by_popsize.png')\n",
    "\n",
    "plot_accuracy(sim_results_df)"
   ]
  },
  {
   "cell_type": "code",
   "execution_count": null,
   "id": "0f4b2622",
   "metadata": {
    "id": "cc5b3998-e054-4159-8415-9b01a55847b8"
   },
   "outputs": [],
   "source": []
  }
 ],
 "metadata": {
  "jupytext": {
   "main_language": "python"
  },
  "kernelspec": {
   "display_name": "Python 3 (ipykernel)",
   "language": "python",
   "name": "python3"
  },
  "language_info": {
   "codemirror_mode": {
    "name": "ipython",
    "version": 3
   },
   "file_extension": ".py",
   "mimetype": "text/x-python",
   "name": "python",
   "nbconvert_exporter": "python",
   "pygments_lexer": "ipython3",
   "version": "3.11.7"
  }
 },
 "nbformat": 4,
 "nbformat_minor": 5
}
